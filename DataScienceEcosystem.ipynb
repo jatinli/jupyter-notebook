{
  "nbformat": 4,
  "nbformat_minor": 0,
  "metadata": {
    "colab": {
      "provenance": []
    },
    "kernelspec": {
      "name": "python3",
      "display_name": "Python 3"
    },
    "language_info": {
      "name": "python"
    }
  },
  "cells": [
    {
      "cell_type": "code",
      "execution_count": null,
      "metadata": {
        "colab": {
          "base_uri": "https://localhost:8080/",
          "height": 74
        },
        "id": "23N_7Jlq4T5i",
        "outputId": "a2262d38-e80e-4307-8824-a5ddfdb98ff8"
      },
      "outputs": [
        {
          "output_type": "display_data",
          "data": {
            "text/plain": [
              "<IPython.core.display.Markdown object>"
            ],
            "text/markdown": "# Data Science Tools and Ecosystem\n"
          },
          "metadata": {}
        }
      ],
      "source": [
        "# prompt: Create a markdown cell with the title Data Science Tools and Ecosystem using H1 style heading.\n",
        "\n",
        "%%markdown\n",
        "# Data Science Tools and Ecosystem"
      ]
    },
    {
      "cell_type": "code",
      "source": [
        "# prompt: Write an introductory sentence about the notebook such as the follows:\n",
        "# In this notebook, Data Science Tools and Ecosystem are summarized.\n",
        "\n",
        "%%markdown\n",
        "\n",
        "In this notebook, Data Science Tools and Ecosystem are summarized."
      ],
      "metadata": {
        "colab": {
          "base_uri": "https://localhost:8080/",
          "height": 46
        },
        "id": "tU81RpCO6pIR",
        "outputId": "0d109202-4710-4e95-8180-84468d23bc1f"
      },
      "execution_count": null,
      "outputs": [
        {
          "output_type": "display_data",
          "data": {
            "text/plain": [
              "<IPython.core.display.Markdown object>"
            ],
            "text/markdown": "\nIn this notebook, Data Science Tools and Ecosystem are summarized.\n"
          },
          "metadata": {}
        }
      ]
    },
    {
      "cell_type": "code",
      "source": [
        "# prompt: Start the cell with an overview line such as:\n",
        "# Some of the popular languages that Data Scientists use are:\n",
        "# Then create an ordered list (i.e. numbered) listing 3 (or more) commonly used languages for data science.\n",
        "\n",
        "%%markdown\n",
        "Some of the popular languages that Data Scientists use are:\n",
        "1. Python\n",
        "2. R\n",
        "3. SQL\n",
        "4. Julia"
      ],
      "metadata": {
        "colab": {
          "base_uri": "https://localhost:8080/",
          "height": 138
        },
        "id": "tgQ4PhsO7AZe",
        "outputId": "21c0f2e0-131c-4685-af0f-9519c0a15c83"
      },
      "execution_count": null,
      "outputs": [
        {
          "output_type": "display_data",
          "data": {
            "text/plain": [
              "<IPython.core.display.Markdown object>"
            ],
            "text/markdown": "Some of the popular languages that Data Scientists use are:\n1. Python\n2. R\n3. SQL\n4. Julia\n"
          },
          "metadata": {}
        }
      ]
    },
    {
      "cell_type": "code",
      "source": [
        "# prompt: Some of the commonly used libraries used by Data Scientists include:\n",
        "# Below this line add an ordered list listing 3 (or more) commonly used libraries in data science.\n",
        "\n",
        "%%markdown\n",
        "Some of the commonly used libraries used by Data Scientists include:\n",
        "1. Pandas\n",
        "2. NumPy\n",
        "3. Scikit-learn"
      ],
      "metadata": {
        "colab": {
          "base_uri": "https://localhost:8080/",
          "height": 120
        },
        "id": "TEJp2Aax7MNR",
        "outputId": "2097913a-dc81-4f56-d7de-7c5f17bcfdab"
      },
      "execution_count": null,
      "outputs": [
        {
          "output_type": "display_data",
          "data": {
            "text/plain": [
              "<IPython.core.display.Markdown object>"
            ],
            "text/markdown": "Some of the commonly used libraries used by Data Scientists include:\n1. Pandas\n2. NumPy\n3. Scikit-learn\n"
          },
          "metadata": {}
        }
      ]
    },
    {
      "cell_type": "code",
      "source": [
        "# prompt: Create a single column table in this cell with the first row containing the header Data Science Tools. The subsequent three rows in the table should indicate three development environment open source tools used in data science.\n",
        "\n",
        "%%markdown\n",
        "\n",
        "| Data Science Tools |\n",
        "|--------------------|\n",
        "| Jupyter Notebooks  |\n",
        "| RStudio            |\n",
        "| VS Code            |"
      ],
      "metadata": {
        "colab": {
          "base_uri": "https://localhost:8080/",
          "height": 143
        },
        "id": "5lcBf7Bh7VUH",
        "outputId": "3c1d2d24-c1f8-416a-d3a5-c26ead36fc41"
      },
      "execution_count": null,
      "outputs": [
        {
          "output_type": "display_data",
          "data": {
            "text/plain": [
              "<IPython.core.display.Markdown object>"
            ],
            "text/markdown": "\n| Data Science Tools |\n|--------------------|\n| Jupyter Notebooks  |\n| RStudio            |\n| VS Code            |\n"
          },
          "metadata": {}
        }
      ]
    },
    {
      "cell_type": "code",
      "source": [
        "# prompt:  Create a markdown cell introducing arithmetic expression examples\n",
        "# Add a line in this cell with H3 style heading with text like:\n",
        "# Below are a few examples of evaluating arithmetic expressions in Python.\n",
        "\n",
        "%%markdown\n",
        "Below are a few examples of evaluating arithmetic expressions in Python."
      ],
      "metadata": {
        "colab": {
          "base_uri": "https://localhost:8080/",
          "height": 46
        },
        "id": "mLZjUEa27gMe",
        "outputId": "2444246b-9e0f-463a-8112-88c8baf1c9de"
      },
      "execution_count": null,
      "outputs": [
        {
          "output_type": "display_data",
          "data": {
            "text/plain": [
              "<IPython.core.display.Markdown object>"
            ],
            "text/markdown": "Below are a few examples of evaluating arithmetic expressions in Python.\n"
          },
          "metadata": {}
        }
      ]
    },
    {
      "cell_type": "code",
      "source": [
        "# prompt: Create a code cell to multiply and add numbers\n",
        "# In this code cell evaluate the expression (3*4)+5.\n",
        "# Insert a comment line before the expression to explain the operation e.g.  This a simple arithmetic expression to mutiply then add integers.\n",
        "# Then execute the cell to ensure the expression returns the expected output of 17.\n",
        "\n",
        "# This a simple arithmetic expression to mutiply then add integers.\n",
        "(3*4)+5"
      ],
      "metadata": {
        "colab": {
          "base_uri": "https://localhost:8080/"
        },
        "id": "jGjcZ-nl7yr_",
        "outputId": "94d8fe94-1e50-4db0-f329-7df7ad061f0d"
      },
      "execution_count": null,
      "outputs": [
        {
          "output_type": "execute_result",
          "data": {
            "text/plain": [
              "17"
            ]
          },
          "metadata": {},
          "execution_count": 12
        }
      ]
    },
    {
      "cell_type": "code",
      "source": [
        "# prompt: In this code cell write an expression that converts 200 minutes into hours.\n",
        "# Insert a comment line before the expression to explain the operation e.g.  This will convert 200 minutes to hours by diving by 60.\n",
        "# Run the cell to evaluate the expression.\n",
        "\n",
        "# This will convert 200 minutes to hours by diving by 60.\n",
        "200/60"
      ],
      "metadata": {
        "colab": {
          "base_uri": "https://localhost:8080/"
        },
        "id": "ZgtEO7uK8EKn",
        "outputId": "f8034dae-5405-4bc9-fd5b-9146e89980f3"
      },
      "execution_count": null,
      "outputs": [
        {
          "output_type": "execute_result",
          "data": {
            "text/plain": [
              "3.3333333333333335"
            ]
          },
          "metadata": {},
          "execution_count": 13
        }
      ]
    },
    {
      "cell_type": "code",
      "source": [
        "# prompt: Below the introduction cell created in Exercise 3, insert a new markdown cell to list the objectives that this notebook covered (i.e. some of the key takeaways from the course). In this new cell start with an introductory line titled: Objectives: in bold font. Then using an unordered list (bullets) indicate 3 to 5 items covered in this notebook, such as List popular languages for Data Science.\n",
        "\n",
        "%%markdown\n",
        "**Objectives:**\n",
        "\n",
        "*   List popular languages for Data Science.\n",
        "*   List commonly used libraries for Data Science.\n",
        "*   List popular tools for Data Science.\n",
        "*   Evaluate arithmetic expressions in Python.\n",
        "*   Convert minutes to hours."
      ],
      "metadata": {
        "colab": {
          "base_uri": "https://localhost:8080/",
          "height": 139
        },
        "id": "QhkWuL1i8SWw",
        "outputId": "c6dba182-bdb5-4e5f-83d1-eacd72fbe3bc"
      },
      "execution_count": null,
      "outputs": [
        {
          "output_type": "display_data",
          "data": {
            "text/plain": [
              "<IPython.core.display.Markdown object>"
            ],
            "text/markdown": "**Objectives:**\n\n*   List popular languages for Data Science.\n*   List commonly used libraries for Data Science.\n*   List popular tools for Data Science.\n*   Evaluate arithmetic expressions in Python.\n*   Convert minutes to hours.\n"
          },
          "metadata": {}
        }
      ]
    },
    {
      "cell_type": "code",
      "source": [
        "# prompt:  What the cell should contain:\n",
        "# Start with a bolded heading:\n",
        "# Write the word \"Objectives:\" in bold at the top of the cell to make it stand out.\n",
        "# Use a bulleted list to present each objective as a question-and-answer pair:\n",
        "# Objective 1: Popular languages\n",
        "# Pose a question like: \"What are some of the popular languages used for Data Science?\"\n",
        "# Follow it with an answer that lists a few languages like Python, R, SQL, etc., and briefly explain why they're popular.\n",
        "# Objective 2: Libraries\n",
        "# Ask: \"Which libraries are commonly used by Data Scientists, and what are they used for?\"\n",
        "# Provide a short list of 3–5 libraries and mention their uses (e.g., NumPy for math, Pandas for dataframes).\n",
        "# Objective 3: Markdown tables\n",
        "# Question: \"How can tables be created using Markdown in Jupyter Notebooks?\"\n",
        "# Briefly explain the structure using pipes and dashes, and mention that it's useful for listing tools or comparing data.\n",
        "# Objective 4: Arithmetic operations\n",
        "# Question: \"How do you perform arithmetic operations in a code cell using Python?\"\n",
        "# Explain that simple math expressions like multiplication and addition can be typed directly into code cells.\n",
        "# Objective 5: Unit conversion\n",
        "# Question: \"How do you convert time units, such as minutes to hours, using Python?\"\n",
        "# Mention that dividing the number of minutes by 60 will give you the result in hours.\n",
        "\n",
        "%%markdown\n",
        "**Objectives:**\n",
        "\n",
        "*   **What are some of the popular languages used for Data Science?** Python, R, and SQL are popular. Python is versatile for many tasks, R is strong for statistics, and SQL is essential for database interaction.\n",
        "*   **Which libraries are commonly used by Data Scientists, and what are they used for?** Libraries like NumPy (numerical operations), Pandas (data manipulation), and Scikit-learn (machine learning) are frequently used for various data science tasks.\n",
        "*   **How can tables be created using Markdown in Jupyter Notebooks?** Tables are created using pipes (`|`) to define columns and dashes (`-`) to separate the header from the data. This is useful for organizing information like lists of tools.\n",
        "*   **How do you perform arithmetic operations in a code cell using Python?** Simple arithmetic expressions like addition, subtraction, multiplication, and division can be typed directly into code cells and executed.\n",
        "*   **How do you convert time units, such as minutes to hours, using Python?** You can convert minutes to hours by dividing the number of minutes by 60."
      ],
      "metadata": {
        "colab": {
          "base_uri": "https://localhost:8080/",
          "height": 209
        },
        "id": "sBbMX8hd8zau",
        "outputId": "579ce80e-ddef-4cb6-cafe-5dc1f514614a"
      },
      "execution_count": null,
      "outputs": [
        {
          "output_type": "display_data",
          "data": {
            "text/plain": [
              "<IPython.core.display.Markdown object>"
            ],
            "text/markdown": "**Objectives:**\n\n*   **What are some of the popular languages used for Data Science?** Python, R, and SQL are popular. Python is versatile for many tasks, R is strong for statistics, and SQL is essential for database interaction.\n*   **Which libraries are commonly used by Data Scientists, and what are they used for?** Libraries like NumPy (numerical operations), Pandas (data manipulation), and Scikit-learn (machine learning) are frequently used for various data science tasks.\n*   **How can tables be created using Markdown in Jupyter Notebooks?** Tables are created using pipes (`|`) to define columns and dashes (`-`) to separate the header from the data. This is useful for organizing information like lists of tools.\n*   **How do you perform arithmetic operations in a code cell using Python?** Simple arithmetic expressions like addition, subtraction, multiplication, and division can be typed directly into code cells and executed.\n*   **How do you convert time units, such as minutes to hours, using Python?** You can convert minutes to hours by dividing the number of minutes by 60.\n"
          },
          "metadata": {}
        }
      ]
    },
    {
      "cell_type": "code",
      "source": [
        "# prompt: In this markdown cell markdown cell include the following text Author in H2 style heading. Include your name as regular text below the word Author.\n",
        "\n",
        "%%markdown\n",
        "## Author\n",
        "Jatin Lilani"
      ],
      "metadata": {
        "colab": {
          "base_uri": "https://localhost:8080/",
          "height": 90
        },
        "id": "A0rNGKVtkuD0",
        "outputId": "32246d9a-fbf9-45b6-b694-7b49dc674ed2"
      },
      "execution_count": 2,
      "outputs": [
        {
          "output_type": "display_data",
          "data": {
            "text/plain": [
              "<IPython.core.display.Markdown object>"
            ],
            "text/markdown": "## Author\nJatin Lilani\n"
          },
          "metadata": {}
        }
      ]
    }
  ]
}